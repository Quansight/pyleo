{
 "cells": [
  {
   "cell_type": "markdown",
   "id": "fb3f881b-906c-4331-9ab7-4b3f8351fa5f",
   "metadata": {},
   "source": [
    "# Pyleo extension array\n",
    "\n",
    "This is a prototype to implement [Pyleoclim_util](https://github.com/LinkedEarth/Pyleoclim_util) as\n",
    "a pandas extension array.\n",
    "\n",
    "There are two independent concepts in this approach:\n",
    "\n",
    "1. A custom pandas data type, that handles the logic of the different time representations\n",
    "\n",
    "2. Accessors, that provide functions as pandas `Series` and `DataFrame` objects, under the attribute `pyleo`"
   ]
  },
  {
   "cell_type": "code",
   "execution_count": 1,
   "id": "bbb24640-297d-413d-943a-931c5dcc8849",
   "metadata": {},
   "outputs": [],
   "source": [
    "import pandas\n",
    "\n",
    "# The module needs to be imported to load the dtype and accessor, even if it may not be used\n",
    "# This could be avoided, by implementing an entry point in pandas, but so far it's not\n",
    "import pyleo"
   ]
  },
  {
   "cell_type": "code",
   "execution_count": 5,
   "id": "2d5cf4d9-bcd7-4da3-af52-e7063b8326e1",
   "metadata": {},
   "outputs": [],
   "source": [
    "# This is the age in thousands of years since present time. Using small values so it can be represented with current pandas date range\n",
    "age = [.12, .08, .04]  # [1900, 1940, 1980]\n",
    "\n",
    "index = pandas.Series(age,\n",
    "                      dtype=pyleo.PyleoDatetimeDType(format='kyr BP'))  # This could be expressed like a string (e.g. `dtype='pyleo_dt[kyr BP]'`)\n",
    "\n",
    "df = pandas.DataFrame({'deterium': [-390.9, -385.1, -377.8],\n",
    "                       'temperature': [.88, 1.84, 3.04]},\n",
    "                      index=index)"
   ]
  },
  {
   "cell_type": "code",
   "execution_count": 4,
   "id": "a4832642-fed0-478e-8d8e-e39d35d59229",
   "metadata": {},
   "outputs": [
    {
     "data": {
      "text/html": [
       "<div>\n",
       "<style scoped>\n",
       "    .dataframe tbody tr th:only-of-type {\n",
       "        vertical-align: middle;\n",
       "    }\n",
       "\n",
       "    .dataframe tbody tr th {\n",
       "        vertical-align: top;\n",
       "    }\n",
       "\n",
       "    .dataframe thead th {\n",
       "        text-align: right;\n",
       "    }\n",
       "</style>\n",
       "<table border=\"1\" class=\"dataframe\">\n",
       "  <thead>\n",
       "    <tr style=\"text-align: right;\">\n",
       "      <th></th>\n",
       "      <th>deterium</th>\n",
       "      <th>temperature</th>\n",
       "    </tr>\n",
       "  </thead>\n",
       "  <tbody>\n",
       "    <tr>\n",
       "      <th>1899-12-31</th>\n",
       "      <td>-390.9</td>\n",
       "      <td>0.88</td>\n",
       "    </tr>\n",
       "    <tr>\n",
       "      <th>1940-01-01</th>\n",
       "      <td>-385.1</td>\n",
       "      <td>1.84</td>\n",
       "    </tr>\n",
       "    <tr>\n",
       "      <th>1980-01-01</th>\n",
       "      <td>-377.8</td>\n",
       "      <td>3.04</td>\n",
       "    </tr>\n",
       "  </tbody>\n",
       "</table>\n",
       "</div>"
      ],
      "text/plain": [
       "            deterium  temperature\n",
       "1899-12-31    -390.9         0.88\n",
       "1940-01-01    -385.1         1.84\n",
       "1980-01-01    -377.8         3.04"
      ]
     },
     "execution_count": 4,
     "metadata": {},
     "output_type": "execute_result"
    }
   ],
   "source": [
    "# Internally, we're going to save the index as seconds (nanoseconds in the current implementation) since the epoch, so pandas datetime operations work\n",
    "# But for the representation of the dataframe we can use the original age in kyr BP, any other format, or we can have an option so the user can decide\n",
    "df"
   ]
  },
  {
   "cell_type": "code",
   "execution_count": 6,
   "id": "d98bb81f-9ce4-4eba-ab63-db847da0bc4e",
   "metadata": {},
   "outputs": [
    {
     "data": {
      "text/plain": [
       "1899-12-31   -1.176965\n",
       "1940-01-01   -0.090536\n",
       "1980-01-01    1.267500\n",
       "Name: temperature, dtype: float64"
      ]
     },
     "execution_count": 6,
     "metadata": {},
     "output_type": "execute_result"
    }
   ],
   "source": [
    "# This is a custom `standardize` method implemented as an accessor. Any method implemented in your `pyleo.Series` class can be implemented this way\n",
    "# with the advantage that `df['temperature']` is a regular pandas Series of any type.\n",
    "df['temperature'].pyleo.standardize()"
   ]
  },
  {
   "cell_type": "code",
   "execution_count": null,
   "id": "656e2064-bd16-41f2-8b54-96c66fe40053",
   "metadata": {},
   "outputs": [],
   "source": []
  }
 ],
 "metadata": {
  "kernelspec": {
   "display_name": "Python 3 (ipykernel)",
   "language": "python",
   "name": "python3"
  },
  "language_info": {
   "codemirror_mode": {
    "name": "ipython",
    "version": 3
   },
   "file_extension": ".py",
   "mimetype": "text/x-python",
   "name": "python",
   "nbconvert_exporter": "python",
   "pygments_lexer": "ipython3",
   "version": "3.10.4"
  }
 },
 "nbformat": 4,
 "nbformat_minor": 5
}
